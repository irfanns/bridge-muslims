{
 "cells": [
  {
   "cell_type": "code",
   "execution_count": 1,
   "metadata": {},
   "outputs": [
    {
     "name": "stdout",
     "output_type": "stream",
     "text": [
      "User's ranking based on their preferences\n",
      "UserA\tUserB\tranking score\n",
      "1\t2\t5\n",
      "1\t3\t0\n",
      "1\t4\t10\n",
      "1\t5\t20\n",
      "1\t6\t0\n",
      "2\t1\t8\n",
      "2\t3\t0\n",
      "2\t4\t10\n",
      "2\t5\t13\n",
      "2\t6\t10\n",
      "3\t1\t8\n",
      "3\t2\t8\n",
      "3\t4\t18\n",
      "3\t5\t8\n",
      "3\t6\t15\n",
      "4\t1\t13\n",
      "4\t2\t10\n",
      "4\t3\t10\n",
      "4\t5\t8\n",
      "4\t6\t0\n",
      "5\t1\t20\n",
      "5\t2\t10\n",
      "5\t3\t0\n",
      "5\t4\t5\n",
      "5\t6\t0\n",
      "6\t1\t8\n",
      "6\t2\t18\n",
      "6\t3\t15\n",
      "6\t4\t8\n",
      "6\t5\t8\n"
     ]
    }
   ],
   "source": [
    "\n",
    "timeZone: dict = {1: \"Lagos\", 7: \"Jakarta\", 9: \"Tokyo\"}\n",
    "tasks: dict = {1: \"Juz 'Amma\", 2: \"Pray 5 times at mosque\", 3: \"Read 1 page of Quran\"}\n",
    "pace: dict = {1: \"Slow\", 2: \"Medium\", 3: \"Fast\"}\n",
    "\n",
    "# examples of users preferences\n",
    "user1Pref: dict = {\"id\": 1, \"timeZone\": 7, \"task\": \"Juz 'Amma\", \"pace\": 3}\n",
    "user2Pref: dict = {\"id\": 2, \"timeZone\": 9, \"task\": \"Pray 5 times at mosque\", \"pace\": 2}\n",
    "user3Pref: dict = {\"id\": 3, \"timeZone\": 1, \"task\": \"Read 1 page of Quran\", \"pace\": 1}\n",
    "user4Pref: dict = {\"id\": 4, \"timeZone\": 7, \"task\": \"Read 1 page of Quran\", \"pace\": 2}\n",
    "user5Pref: dict = {\"id\": 5, \"timeZone\": 9, \"task\": \"Juz 'Amma\", \"pace\": 3}\n",
    "user6Pref: dict = {\"id\": 6, \"timeZone\": 1, \"task\": \"Pray 5 times at mosque\", \"pace\": 1}\n",
    "\n",
    "usersPref: list = [user1Pref, user2Pref, user3Pref, user4Pref, user5Pref, user6Pref]\n",
    "\n",
    "\n",
    "def getRanking(user1Pref: dict, user2Pref: dict) -> int:\n",
    "    \"\"\"Returns the user's ranking based on their preferences.\"\"\"\n",
    "    value: int = 0\n",
    "    if user1Pref[\"timeZone\"] == user2Pref[\"timeZone\"]: value += 10\n",
    "    elif user1Pref[\"timeZone\"] - user2Pref[\"timeZone\"] < 3: value += 5\n",
    "    else: value += 0\n",
    "    \n",
    "    if user1Pref[\"task\"] == user2Pref[\"task\"]: value += 10\n",
    "    else : value += 0\n",
    "\n",
    "    if user1Pref[\"pace\"] == user2Pref[\"pace\"]: value += 5\n",
    "    elif user1Pref[\"pace\"] - user2Pref[\"pace\"] < 1: value += 3\n",
    "    else: value += 0\n",
    "\n",
    "    return value\n",
    "\n",
    "print (\"User's ranking based on their preferences\")\n",
    "print (\"UserA\", \"UserB\", \"ranking score\", sep=\"\\t\")\n",
    "for prefA in usersPref:\n",
    "    for prefB in usersPref:\n",
    "        if prefA != prefB:\n",
    "            print(prefA[\"id\"], prefB[\"id\"], getRanking(prefA, prefB), sep = \"\\t\")\n",
    "\n",
    "# def getMatch(userPref: dict) -> str:\n",
    "\n"
   ]
  },
  {
   "cell_type": "code",
   "execution_count": 9,
   "metadata": {},
   "outputs": [
    {
     "name": "stdout",
     "output_type": "stream",
     "text": [
      "+-------+-------+---------------+\n",
      "| UserA | UserB | Ranking Score |\n",
      "+-------+-------+---------------+\n",
      "|   5   |   1   |       20      |\n",
      "|   1   |   5   |       20      |\n",
      "|   6   |   2   |       18      |\n",
      "|   3   |   4   |       18      |\n",
      "|   6   |   3   |       15      |\n",
      "|   3   |   6   |       15      |\n",
      "|   4   |   1   |       13      |\n",
      "|   2   |   5   |       13      |\n",
      "|   5   |   2   |       10      |\n",
      "|   4   |   3   |       10      |\n",
      "|   4   |   2   |       10      |\n",
      "|   2   |   6   |       10      |\n",
      "|   2   |   4   |       10      |\n",
      "|   1   |   4   |       10      |\n",
      "|   6   |   5   |       8       |\n",
      "|   6   |   4   |       8       |\n",
      "|   6   |   1   |       8       |\n",
      "|   4   |   5   |       8       |\n",
      "|   3   |   5   |       8       |\n",
      "|   3   |   2   |       8       |\n",
      "|   3   |   1   |       8       |\n",
      "|   2   |   1   |       8       |\n",
      "|   5   |   4   |       5       |\n",
      "|   1   |   2   |       5       |\n",
      "|   5   |   6   |       0       |\n",
      "|   5   |   3   |       0       |\n",
      "|   4   |   6   |       0       |\n",
      "|   2   |   3   |       0       |\n",
      "|   1   |   6   |       0       |\n",
      "|   1   |   3   |       0       |\n",
      "+-------+-------+---------------+\n"
     ]
    }
   ],
   "source": [
    "import prettytable as pt\n",
    "x = pt.PrettyTable()\n",
    "x.field_names = [\"UserA\", \"UserB\", \"Ranking Score\"]\n",
    "for prefA in usersPref:\n",
    "    for prefB in usersPref:\n",
    "        if prefA != prefB:\n",
    "            x.add_row([prefA[\"id\"], prefB[\"id\"], getRanking(prefA, prefB)])\n",
    "\n",
    "print(x.get_string(sortby=\"Ranking Score\", reversesort=True))"
   ]
  }
 ],
 "metadata": {
  "kernelspec": {
   "display_name": "Python 3.9.13 ('env': venv)",
   "language": "python",
   "name": "python3"
  },
  "language_info": {
   "codemirror_mode": {
    "name": "ipython",
    "version": 3
   },
   "file_extension": ".py",
   "mimetype": "text/x-python",
   "name": "python",
   "nbconvert_exporter": "python",
   "pygments_lexer": "ipython3",
   "version": "3.9.13"
  },
  "orig_nbformat": 4,
  "vscode": {
   "interpreter": {
    "hash": "cc8117cbda9181c58bb421d94bb920ddbd52975ee29e6d33686dcaa74c704e30"
   }
  }
 },
 "nbformat": 4,
 "nbformat_minor": 2
}
